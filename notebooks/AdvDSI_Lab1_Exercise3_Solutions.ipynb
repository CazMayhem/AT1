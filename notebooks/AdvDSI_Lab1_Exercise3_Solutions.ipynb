{
  "nbformat": 4,
  "nbformat_minor": 0,
  "metadata": {
    "colab": {
      "name": "AdvDSI-Lab1-Exercise3-Solutions.ipynb",
      "provenance": [],
      "collapsed_sections": [],
      "include_colab_link": true
    },
    "kernelspec": {
      "display_name": "Python 3",
      "language": "python",
      "name": "python3"
    },
    "language_info": {
      "codemirror_mode": {
        "name": "ipython",
        "version": 3
      },
      "file_extension": ".py",
      "mimetype": "text/x-python",
      "name": "python",
      "nbconvert_exporter": "python",
      "pygments_lexer": "ipython3",
      "version": "3.7.6"
    }
  },
  "cells": [
    {
      "cell_type": "markdown",
      "metadata": {
        "id": "view-in-github",
        "colab_type": "text"
      },
      "source": [
        "<a href=\"https://colab.research.google.com/github/CazMayhem/AT1/blob/master/notebooks/AdvDSI_Lab1_Exercise3_Solutions.ipynb\" target=\"_parent\"><img src=\"https://colab.research.google.com/assets/colab-badge.svg\" alt=\"Open In Colab\"/></a>"
      ]
    },
    {
      "cell_type": "markdown",
      "metadata": {
        "id": "uQ6wc2HE0pke"
      },
      "source": [
        "# **Lab: ML Engineering**\n",
        "\n"
      ]
    },
    {
      "cell_type": "markdown",
      "metadata": {
        "id": "tQgxLRrvjiJb"
      },
      "source": [
        "## Exercise 3: Organising Git Repository\n",
        "\n",
        "This time we will start our data science project by running a Docker image. We will train a Linear Regression model on the same dataset as previously but this time we will perform a polynomial transformation.\n",
        "\n",
        "\n",
        "**Pre-requisites:**\n",
        "- Create a github account (https://github.com/join)\n",
        "- Install git (https://git-scm.com/book/en/v2/Getting-Started-Installing-Git)\n",
        "- Install Docker (https://docs.docker.com/get-docker/)\n",
        "\n",
        "The steps are:\n",
        "1.   Build Docker image\n",
        "2.   Prepare Data\n",
        "3.   Train Linear Regression model\n",
        "7.   Push changes\n"
      ]
    },
    {
      "cell_type": "markdown",
      "metadata": {
        "id": "smh_LhVjIg9s"
      },
      "source": [
        "### 1. Build Docker image"
      ]
    },
    {
      "cell_type": "markdown",
      "metadata": {
        "id": "P7KRLjcRn2d4"
      },
      "source": [
        "**[1.1]** Go to the folder you created previously `adv_dsi_lab_1`"
      ]
    },
    {
      "cell_type": "code",
      "metadata": {
        "id": "xBNTTx7UAVCV"
      },
      "source": [
        "# Placeholder for student's code (1 command line)\n",
        "# Task: Go to the folder you created previously adv_dsi_lab_1"
      ],
      "execution_count": null,
      "outputs": []
    },
    {
      "cell_type": "code",
      "metadata": {
        "id": "hsv0dkk1n7Bg"
      },
      "source": [
        "#Solution:\n",
        "cd ~/Projects/adv_dsi_lab_1"
      ],
      "execution_count": null,
      "outputs": []
    },
    {
      "cell_type": "markdown",
      "metadata": {
        "id": "urrLvZmTUX23"
      },
      "source": [
        "**[1.2]** Build and run the jupyter/scipy-notebook image (https://hub.docker.com/r/jupyter/scipy-notebook)"
      ]
    },
    {
      "cell_type": "code",
      "metadata": {
        "id": "nDAwl-fSVgIe"
      },
      "source": [
        "docker run  -dit --rm --name adv_dsi_lab_1 -p 8888:8888 -e JUPYTER_ENABLE_LAB=yes -v ${PWD}:/home/jovyan/work -v ${PWD}/../adv_dsi_lab_1/src:/home/jovyan/work/src jupyter/scipy-notebook:0ce64578df46"
      ],
      "execution_count": null,
      "outputs": []
    },
    {
      "cell_type": "markdown",
      "metadata": {
        "id": "vP0EUHpaX_-m"
      },
      "source": [
        "Syntax: docker run [OPTIONS] IMAGE\n",
        "\n",
        "Options:\n",
        "\n",
        "`-dit: Run container in background and interactive`\n",
        "\n",
        "`--rm: Automatically remove the container when it exits`\n",
        "\n",
        "`--name: Assign a name to the container`\n",
        "\n",
        "`-p: Publish a container's port(s) to the host`\n",
        "\n",
        "`-e: Set environment variables`\n",
        "\n",
        "`-v Bind mount a volume`\n",
        "\n",
        "Documentation: https://docs.docker.com/engine/reference/commandline/run/"
      ]
    },
    {
      "cell_type": "markdown",
      "metadata": {
        "id": "hs7TE4vnWSWw"
      },
      "source": [
        "**[1.3]** List all built docker images"
      ]
    },
    {
      "cell_type": "code",
      "metadata": {
        "id": "hRPEVKp5WTSh"
      },
      "source": [
        "docker images"
      ],
      "execution_count": null,
      "outputs": []
    },
    {
      "cell_type": "markdown",
      "metadata": {
        "id": "_o7yeAQ6aJTe"
      },
      "source": [
        "Documentation: https://docs.docker.com/engine/reference/commandline/images/"
      ]
    },
    {
      "cell_type": "markdown",
      "metadata": {
        "id": "cZ3dcCcYWikq"
      },
      "source": [
        "**[1.4]** List running images"
      ]
    },
    {
      "cell_type": "code",
      "metadata": {
        "id": "iEcixkgqWnyo"
      },
      "source": [
        "docker ps"
      ],
      "execution_count": null,
      "outputs": []
    },
    {
      "cell_type": "markdown",
      "metadata": {
        "id": "4phN-PkAaHMt"
      },
      "source": [
        "Documentation: https://docs.docker.com/engine/reference/commandline/ps/"
      ]
    },
    {
      "cell_type": "markdown",
      "metadata": {
        "id": "4fO9RJMhwGpM"
      },
      "source": [
        "**[1.5]** Display last 50 lines of logs"
      ]
    },
    {
      "cell_type": "code",
      "metadata": {
        "id": "RwizA-K3wGyb"
      },
      "source": [
        "docker logs --tail 50 adv_dsi_lab_1"
      ],
      "execution_count": null,
      "outputs": []
    },
    {
      "cell_type": "markdown",
      "metadata": {
        "id": "5gKuxsPkZrjB"
      },
      "source": [
        "Syntax: docker logs [OPTIONS] CONTAINER\n",
        "\n",
        "Options:\n",
        "\n",
        "`--tail: Number of lines to show from the end of the logs`\n",
        "\n",
        "Documentation: https://docs.docker.com/engine/reference/commandline/logs/"
      ]
    },
    {
      "cell_type": "markdown",
      "metadata": {
        "id": "QxkJaPioCmEO"
      },
      "source": [
        "Copy the url displayed and paste it to a browser in order to launch Jupyter Lab"
      ]
    },
    {
      "cell_type": "markdown",
      "metadata": {
        "id": "jxQRDLu2C6D4"
      },
      "source": [
        "**[1.6]** Create a new git branch called `adv_dsi_1_3`"
      ]
    },
    {
      "cell_type": "code",
      "metadata": {
        "id": "zBD6K4MXC6rA"
      },
      "source": [
        "git checkout -b adv_dsi_1_3"
      ],
      "execution_count": null,
      "outputs": []
    },
    {
      "cell_type": "markdown",
      "metadata": {
        "id": "bR8U5ATZalkz"
      },
      "source": [
        "Documentation: https://www.atlassian.com/git/tutorials/using-branches/git-checkout"
      ]
    },
    {
      "cell_type": "markdown",
      "metadata": {
        "id": "yTjwF_joDWnE"
      },
      "source": [
        "**[1.7]** Navigate the folder `notebooks` and create a new jupyter notebook called `2_linear_poly.ipynb`"
      ]
    },
    {
      "cell_type": "markdown",
      "metadata": {
        "id": "_NCwQQFkU3v5"
      },
      "source": [
        "### 2. Prepare Data"
      ]
    },
    {
      "cell_type": "markdown",
      "metadata": {
        "id": "4JI0kZJxpkoK"
      },
      "source": [
        "**[2.1]** Import the pandas and numpy package"
      ]
    },
    {
      "cell_type": "code",
      "metadata": {
        "id": "85PHb6M7p57j"
      },
      "source": [
        "# Placeholder for student's code (2 lines of Python code)\n",
        "# Task: Import the pandas and numpy package"
      ],
      "execution_count": null,
      "outputs": []
    },
    {
      "cell_type": "code",
      "metadata": {
        "id": "1sXpjWA8pz0q"
      },
      "source": [
        "# Solution\n",
        "import pandas as pd\n",
        "import numpy as np"
      ],
      "execution_count": null,
      "outputs": []
    },
    {
      "cell_type": "markdown",
      "metadata": {
        "id": "R-Zy6Oq8pkuB"
      },
      "source": [
        "**[2.2]** Load the saved sets from `data/processed` using numpy"
      ]
    },
    {
      "cell_type": "code",
      "metadata": {
        "id": "ZresJIasqpgH"
      },
      "source": [
        "# Placeholder for student's code (6 lines of Python code)\n",
        "# Task: Load the saved sets from data/processed using numpy"
      ],
      "execution_count": null,
      "outputs": []
    },
    {
      "cell_type": "code",
      "metadata": {
        "id": "Q1iETWjDftMg"
      },
      "source": [
        "#Solution:\n",
        "X_train = np.load('../data/processed/X_train.npy')\n",
        "X_val   = np.load('../data/processed/X_val.npy'  )\n",
        "X_test  = np.load('../data/processed/X_test.npy' )\n",
        "y_train = np.load('../data/processed/y_train.npy')\n",
        "y_val   = np.load('../data/processed/y_val.npy'  )\n",
        "y_test  = np.load('../data/processed/y_test.npy' )"
      ],
      "execution_count": null,
      "outputs": []
    },
    {
      "cell_type": "markdown",
      "metadata": {
        "id": "zJl_X7dzyZBU"
      },
      "source": [
        "**[2.3]** Display the dimensions of X_train"
      ]
    },
    {
      "cell_type": "code",
      "metadata": {
        "id": "PPxvjFdHyZJo"
      },
      "source": [
        "# Placeholder for student's code (1 line of Python code)\n",
        "# Task: Display the dimensions of X_train"
      ],
      "execution_count": null,
      "outputs": []
    },
    {
      "cell_type": "code",
      "metadata": {
        "id": "94SIRiRYyDOZ",
        "outputId": "6d8a8c6c-d41c-4798-959c-4c32ec2ba319"
      },
      "source": [
        "# Solution\n",
        "X_train.shape"
      ],
      "execution_count": null,
      "outputs": [
        {
          "data": {
            "text/plain": [
              "(25372, 59)"
            ]
          },
          "execution_count": 3,
          "metadata": {},
          "output_type": "execute_result"
        }
      ]
    },
    {
      "cell_type": "markdown",
      "metadata": {
        "id": "JIzNxpUzytVo"
      },
      "source": [
        "**[2.4]** Import PolynomialFeatures from sklearn.preprocessing"
      ]
    },
    {
      "cell_type": "code",
      "metadata": {
        "id": "JLFkRdC7yZNC"
      },
      "source": [
        "# Placeholder for student's code (1 line of Python code)\n",
        "# Task: Import PolynomialFeatures from sklearn.preprocessing"
      ],
      "execution_count": null,
      "outputs": []
    },
    {
      "cell_type": "code",
      "metadata": {
        "id": "RyGkBuzOtmFT"
      },
      "source": [
        "# Solution:\n",
        "from sklearn.preprocessing import PolynomialFeatures"
      ],
      "execution_count": null,
      "outputs": []
    },
    {
      "cell_type": "markdown",
      "metadata": {
        "id": "TIn80khDzm_8"
      },
      "source": [
        "**[2.5]** Instantiate a PolynomialFeatures with degree 2"
      ]
    },
    {
      "cell_type": "code",
      "metadata": {
        "id": "w2GXx-j4EYNY"
      },
      "source": [
        "# Placeholder for student's code (1 line of Python code)\n",
        "# Task: Instantiate a PolynomialFeatures with degree 2"
      ],
      "execution_count": null,
      "outputs": []
    },
    {
      "cell_type": "code",
      "metadata": {
        "id": "wwxiGvm9znIX"
      },
      "source": [
        "# Solution:\n",
        "poly = PolynomialFeatures(2)"
      ],
      "execution_count": null,
      "outputs": []
    },
    {
      "cell_type": "markdown",
      "metadata": {
        "id": "r8FMzCVyyQb8"
      },
      "source": [
        "**[2.6]** Fit the PolynomialFeatures and perform transformation on X_train"
      ]
    },
    {
      "cell_type": "code",
      "metadata": {
        "id": "aTn2VB7syQn8"
      },
      "source": [
        "# Placeholder for student's code (1 line of Python code)\n",
        "# Task: Fit the PolynomialFeatures and perform transformation on X_train"
      ],
      "execution_count": null,
      "outputs": []
    },
    {
      "cell_type": "code",
      "metadata": {
        "id": "EAMfTpGoyQu3"
      },
      "source": [
        "# Solution:\n",
        "X_train = poly.fit_transform(X_train)"
      ],
      "execution_count": null,
      "outputs": []
    },
    {
      "cell_type": "markdown",
      "metadata": {
        "id": "zD-FwMOP0ESC"
      },
      "source": [
        "**[2.7]** Display the dimensions of X_train"
      ]
    },
    {
      "cell_type": "code",
      "metadata": {
        "id": "rK8wLflu0Ed5"
      },
      "source": [
        "# Placeholder for student's code (1 line of Python code)\n",
        "# Task: Display the dimensions of X_train"
      ],
      "execution_count": null,
      "outputs": []
    },
    {
      "cell_type": "code",
      "metadata": {
        "id": "JfiKbw1E0Ee5",
        "outputId": "d3d06d3f-dbd0-4f55-d5a3-16f6d789c051"
      },
      "source": [
        "# Solution\n",
        "X_train.shape"
      ],
      "execution_count": null,
      "outputs": [
        {
          "data": {
            "text/plain": [
              "(25372, 1830)"
            ]
          },
          "execution_count": 7,
          "metadata": {},
          "output_type": "execute_result"
        }
      ]
    },
    {
      "cell_type": "markdown",
      "metadata": {
        "id": "L8Tgk3ZW0RGA"
      },
      "source": [
        "**[2.8]** Perform transformation on X_val and X_test with PolynomialFeatures"
      ]
    },
    {
      "cell_type": "code",
      "metadata": {
        "id": "V8T92u1n0RRm"
      },
      "source": [
        "# Placeholder for student's code (2 lines of Python code)\n",
        "# Task: Perform transformation on X_val and X_test with PolynomialFeatures"
      ],
      "execution_count": null,
      "outputs": []
    },
    {
      "cell_type": "code",
      "metadata": {
        "id": "D1gz4fwW0RUQ"
      },
      "source": [
        "# Solution:\n",
        "X_val = poly.transform(X_val)\n",
        "X_test = poly.transform(X_test)"
      ],
      "execution_count": null,
      "outputs": []
    },
    {
      "cell_type": "markdown",
      "metadata": {
        "id": "K_m-WMllhVqG"
      },
      "source": [
        "# 3. Train Linear Regression model"
      ]
    },
    {
      "cell_type": "markdown",
      "metadata": {
        "id": "ImPSPeLcQrS5"
      },
      "source": [
        "**[3.1]** Import the linear regression module from sklearn"
      ]
    },
    {
      "cell_type": "code",
      "metadata": {
        "id": "Oqu0mLfnQrZX"
      },
      "source": [
        "# Placeholder for student's code (1 line of Python code)\n",
        "# Task: Import the linear regression module from sklearn"
      ],
      "execution_count": null,
      "outputs": []
    },
    {
      "cell_type": "code",
      "metadata": {
        "id": "hh2wmK9wQrcB"
      },
      "source": [
        "# Solution:\n",
        "from sklearn.linear_model import LinearRegression "
      ],
      "execution_count": null,
      "outputs": []
    },
    {
      "cell_type": "markdown",
      "metadata": {
        "id": "m00Ks05tQsJb"
      },
      "source": [
        "**[3.2]** Task: instantiate the LinearRegression class into a variable called reg"
      ]
    },
    {
      "cell_type": "code",
      "metadata": {
        "id": "x--MSD6_QsRV"
      },
      "source": [
        "# Placeholder for student's code (1 line of code)\n",
        "# Task: instantiate the LinearRegression class into a variable called reg"
      ],
      "execution_count": null,
      "outputs": []
    },
    {
      "cell_type": "code",
      "metadata": {
        "id": "oijeWjaIQsT9"
      },
      "source": [
        "# Solution\n",
        "reg = LinearRegression()"
      ],
      "execution_count": null,
      "outputs": []
    },
    {
      "cell_type": "markdown",
      "metadata": {
        "id": "Ao86WklhRj-F"
      },
      "source": [
        "**[3.3]** Task: Fit the model with the prepared data"
      ]
    },
    {
      "cell_type": "code",
      "metadata": {
        "id": "lMXMIkJHRkHz"
      },
      "source": [
        "# Placeholder for student's code (1 line of code)\n",
        "# Task: Fit the model with the prepared data"
      ],
      "execution_count": null,
      "outputs": []
    },
    {
      "cell_type": "code",
      "metadata": {
        "id": "rprce0GGRkKb",
        "outputId": "1e0a9879-15ac-44f9-9078-6c6ceefa740d"
      },
      "source": [
        "# Solution\n",
        "reg.fit(X_train, y_train)"
      ],
      "execution_count": null,
      "outputs": [
        {
          "data": {
            "text/plain": [
              "LinearRegression(copy_X=True, fit_intercept=True, n_jobs=None, normalize=False)"
            ]
          },
          "execution_count": 11,
          "metadata": {},
          "output_type": "execute_result"
        }
      ]
    },
    {
      "cell_type": "markdown",
      "metadata": {
        "id": "LZFys_bhRtu-"
      },
      "source": [
        "**[3.4]** Import `dump` from `joblib` and save the fitted model into the folder `models` as a file called `linear_poly_2`"
      ]
    },
    {
      "cell_type": "code",
      "metadata": {
        "id": "QzHfn9UORt2e"
      },
      "source": [
        "# Placeholder for student's code (2 lines of Python code)\n",
        "# Task: Import dump from joblib and save the fitted model into the folder models as a file called linear_poly_2.joblib"
      ],
      "execution_count": null,
      "outputs": []
    },
    {
      "cell_type": "code",
      "metadata": {
        "id": "3Yn_xbLxRt4y",
        "outputId": "4e8967b0-6cbc-4b1c-ec16-08097c1fdedb"
      },
      "source": [
        "# Solution:\n",
        "from joblib import dump  \n",
        "\n",
        "dump(reg,  '../models/linear_poly_2.joblib')"
      ],
      "execution_count": null,
      "outputs": [
        {
          "data": {
            "text/plain": [
              "['../models/linear_poly_2.joblib']"
            ]
          },
          "execution_count": 12,
          "metadata": {},
          "output_type": "execute_result"
        }
      ]
    },
    {
      "cell_type": "markdown",
      "metadata": {
        "id": "xMvlK3mkfk0Q"
      },
      "source": [
        "**[3.5]** Save the predictions from this model for the training and validation sets into 2 variables called `y_train_preds` and `y_val_preds`\n"
      ]
    },
    {
      "cell_type": "code",
      "metadata": {
        "id": "xOVFv7mFfk6D"
      },
      "source": [
        "# Placeholder for student's code (2 lines of Python code)\n",
        "# Task: Save the predictions from this model for the training and validation sets into 2 variables called y_train_preds and y_val_preds"
      ],
      "execution_count": null,
      "outputs": []
    },
    {
      "cell_type": "code",
      "metadata": {
        "id": "BTkCfP4lfk86"
      },
      "source": [
        "# Solution:\n",
        "y_train_preds = reg.predict(X_train)\n",
        "y_val_preds = reg.predict(X_val)"
      ],
      "execution_count": null,
      "outputs": []
    },
    {
      "cell_type": "markdown",
      "metadata": {
        "id": "Y5npD0dOhhzK"
      },
      "source": [
        "**[3.6]** Import the MSE and MAE metrics from sklearn"
      ]
    },
    {
      "cell_type": "code",
      "metadata": {
        "id": "kWGNX_byhh6_"
      },
      "source": [
        "# Placeholder for student's code (1 line of Python code)\n",
        "# Task: Import the MSE and MAE metrics from sklearn"
      ],
      "execution_count": null,
      "outputs": []
    },
    {
      "cell_type": "code",
      "metadata": {
        "id": "c5WkEIhHhh9j"
      },
      "source": [
        "# Solution:\n",
        "from sklearn.metrics import mean_squared_error as mse\n",
        "from sklearn.metrics import mean_absolute_error as mae"
      ],
      "execution_count": null,
      "outputs": []
    },
    {
      "cell_type": "markdown",
      "metadata": {
        "id": "j-JTUQkUhDhq"
      },
      "source": [
        "**[3.7]** Display the RMSE and MAE scores of this model on the training set"
      ]
    },
    {
      "cell_type": "code",
      "metadata": {
        "id": "4uYmcxWHhDnd"
      },
      "source": [
        "# Placeholder for student's code (2 lines of Python code)\n",
        "# Task: Display the RMSE and MAE scores of this model on the training set"
      ],
      "execution_count": null,
      "outputs": []
    },
    {
      "cell_type": "code",
      "metadata": {
        "id": "hQd__b-chDqR",
        "outputId": "73528e84-16d0-4379-965f-b9912d446e05"
      },
      "source": [
        "# Solution:\n",
        "print(mse(y_train, y_train_preds, squared=False))\n",
        "print(mae(y_train, y_train_preds))"
      ],
      "execution_count": null,
      "outputs": [
        {
          "name": "stdout",
          "output_type": "stream",
          "text": [
            "10640.860619369127\n",
            "3762.726320399333\n"
          ]
        }
      ]
    },
    {
      "cell_type": "markdown",
      "metadata": {
        "id": "1rAjI3c4TIPK"
      },
      "source": [
        "**[3.8]** Display the RMSE and MAE scores of this model on the validation set"
      ]
    },
    {
      "cell_type": "code",
      "metadata": {
        "id": "ro3FgUvbTIXH"
      },
      "source": [
        "# Placeholder for student's code (2 lines of Python code)\n",
        "# Task: Display the RMSE and MAE scores of this model on the validation set"
      ],
      "execution_count": null,
      "outputs": []
    },
    {
      "cell_type": "code",
      "metadata": {
        "id": "YqiLiSVzTIZ1",
        "outputId": "bc69e834-17f9-481c-d6d7-9f972dd59efb"
      },
      "source": [
        "# Solution:\n",
        "print(mse(y_val, y_val_preds, squared=False))\n",
        "print(mae(y_val, y_val_preds))"
      ],
      "execution_count": null,
      "outputs": [
        {
          "name": "stdout",
          "output_type": "stream",
          "text": [
            "10263.2950112644\n",
            "4134.950863033068\n"
          ]
        }
      ]
    },
    {
      "cell_type": "markdown",
      "metadata": {
        "id": "1yX0Ocg4hcZM"
      },
      "source": [
        "# 4.   Push changes"
      ]
    },
    {
      "cell_type": "markdown",
      "metadata": {
        "id": "3guOKU9gjrmp"
      },
      "source": [
        "**[4.1]** Add you changes to git staging area"
      ]
    },
    {
      "cell_type": "code",
      "metadata": {
        "id": "lKuRNeqAj0ym"
      },
      "source": [
        "# Placeholder for student's code (1 command line)\n",
        "# Task: Add you changes to git staging area"
      ],
      "execution_count": null,
      "outputs": []
    },
    {
      "cell_type": "code",
      "metadata": {
        "id": "axcj-jS0jruy"
      },
      "source": [
        "# Solution:\n",
        "git add ."
      ],
      "execution_count": null,
      "outputs": []
    },
    {
      "cell_type": "markdown",
      "metadata": {
        "id": "6nUK2dp_j67X"
      },
      "source": [
        "**[4.2]** Create the snapshot of your repository and add a description"
      ]
    },
    {
      "cell_type": "code",
      "metadata": {
        "id": "1-M-aS-Ij7EE"
      },
      "source": [
        "# Placeholder for student's code (1 command line)\n",
        "# Task: Create the snapshot of your repository and add a description"
      ],
      "execution_count": null,
      "outputs": []
    },
    {
      "cell_type": "code",
      "metadata": {
        "id": "zovhzXRxj7Il"
      },
      "source": [
        "# Solution:\n",
        "git commit -m \"linear regression with poly 2\""
      ],
      "execution_count": null,
      "outputs": []
    },
    {
      "cell_type": "markdown",
      "metadata": {
        "id": "Y9FciIQZj7nX"
      },
      "source": [
        "**[4.3]** Push your snapshot to Github"
      ]
    },
    {
      "cell_type": "code",
      "metadata": {
        "id": "IR7i6D5hj7uO"
      },
      "source": [
        "# Placeholder for student's code (1 command line)\n",
        "# Task: Push your snapshot to Github"
      ],
      "execution_count": null,
      "outputs": []
    },
    {
      "cell_type": "code",
      "metadata": {
        "id": "WaVAgJ4Aj7wi"
      },
      "source": [
        "# Solution:\n",
        "git push --set-upstream origin adv_dsi_1_3"
      ],
      "execution_count": null,
      "outputs": []
    },
    {
      "cell_type": "markdown",
      "metadata": {
        "id": "d7a6bwMniAs1"
      },
      "source": [
        "**[4.4]** Check out to the master branch"
      ]
    },
    {
      "cell_type": "code",
      "metadata": {
        "id": "eM9v_33XiA1I"
      },
      "source": [
        "# Placeholder for student's code (1 command line)\n",
        "# Task: Check out to the master branch"
      ],
      "execution_count": null,
      "outputs": []
    },
    {
      "cell_type": "code",
      "metadata": {
        "id": "d6-AI0x7iA4M"
      },
      "source": [
        "# Solution:\n",
        "git checkout master"
      ],
      "execution_count": null,
      "outputs": []
    },
    {
      "cell_type": "markdown",
      "metadata": {
        "id": "v98Ka9kNiBLw"
      },
      "source": [
        "**[4.5]** Pull the latest updates"
      ]
    },
    {
      "cell_type": "code",
      "metadata": {
        "id": "yNZb1PyEjIOP"
      },
      "source": [
        "# Placeholder for student's code (1 command line)\n",
        "# Task: Pull the latest updates"
      ],
      "execution_count": null,
      "outputs": []
    },
    {
      "cell_type": "code",
      "metadata": {
        "id": "5TJAEYxPjIRS"
      },
      "source": [
        "# Solution:\n",
        "git pull"
      ],
      "execution_count": null,
      "outputs": []
    },
    {
      "cell_type": "markdown",
      "metadata": {
        "id": "S51cRJrJFr5_"
      },
      "source": [
        "**[4.6]** Check out to the `adv_dsi_1_3` branch"
      ]
    },
    {
      "cell_type": "code",
      "metadata": {
        "id": "lZWGcdQJFsBi"
      },
      "source": [
        "# Placeholder for student's code (1 command line)\n",
        "# Task: Check out to the adv_dsi_1_3 branch"
      ],
      "execution_count": null,
      "outputs": []
    },
    {
      "cell_type": "code",
      "metadata": {
        "id": "cpQLjF9-FsDx"
      },
      "source": [
        "# Solution:\n",
        "git checkout adv_dsi_1_3"
      ],
      "execution_count": null,
      "outputs": []
    },
    {
      "cell_type": "markdown",
      "metadata": {
        "id": "pGd3Xdx-jJDk"
      },
      "source": [
        "**[4.7]** Merge the `master` branch and push your changes"
      ]
    },
    {
      "cell_type": "code",
      "metadata": {
        "id": "aEYg8wauiBUb"
      },
      "source": [
        "# Placeholder for student's code (2 command lines)\n",
        "# Task: Merge the master branch and push your changes"
      ],
      "execution_count": null,
      "outputs": []
    },
    {
      "cell_type": "code",
      "metadata": {
        "id": "YNZunyVsiBXd"
      },
      "source": [
        "# Solution:\n",
        "git merge master\n",
        "git push"
      ],
      "execution_count": null,
      "outputs": []
    },
    {
      "cell_type": "markdown",
      "metadata": {
        "id": "I2ZaokUIas_c"
      },
      "source": [
        "Documentation: https://www.atlassian.com/git/tutorials/using-branches/git-merge"
      ]
    },
    {
      "cell_type": "markdown",
      "metadata": {
        "id": "8B98cSvWkB-x"
      },
      "source": [
        "**[4.8]** Go to Github and merge the branch after reviewing the code and fixing any conflict"
      ]
    },
    {
      "cell_type": "markdown",
      "metadata": {
        "id": "EkQx18jYiEvQ"
      },
      "source": [
        "**[4.9]** Stop the Docker container"
      ]
    },
    {
      "cell_type": "code",
      "metadata": {
        "id": "ovwOAbC5iE-T"
      },
      "source": [
        "docker stop adv_dsi_lab_1"
      ],
      "execution_count": null,
      "outputs": []
    },
    {
      "cell_type": "markdown",
      "metadata": {
        "id": "5AS-TovMaS51"
      },
      "source": [
        "Documentation: https://docs.docker.com/engine/reference/commandline/stop/"
      ]
    }
  ]
}